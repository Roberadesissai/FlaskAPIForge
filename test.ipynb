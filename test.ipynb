{
 "cells": [
  {
   "cell_type": "code",
   "execution_count": 1,
   "metadata": {},
   "outputs": [
    {
     "name": "stdout",
     "output_type": "stream",
     "text": [
      "{'name': 'Widget', 'description': 'A useful tool', 'price': 9.99}\n",
      "{'name': 'Widget', 'description': 'A useful tool', 'price': 9.99}\n"
     ]
    }
   ],
   "source": [
    "from marshmallow import Schema, fields\n",
    "\n",
    "# Define the schema\n",
    "class ItemSchema(Schema):\n",
    "    id = fields.Str(dump_only=True)\n",
    "    name = fields.Str(required=True)\n",
    "    description = fields.Str(required=True)\n",
    "    price = fields.Float(required=True)\n",
    "    created_at = fields.DateTime(dump_only=True)\n",
    "    updated_at = fields.DateTime(dump_only=True)\n",
    "\n",
    "# Create an instance of the schema\n",
    "item_schema = ItemSchema()\n",
    "\n",
    "# Example item data (like you might receive from a web request)\n",
    "item_data = {\n",
    "    \"name\": \"Widget\",\n",
    "    \"description\": \"A useful tool\",\n",
    "    \"price\": 9.99\n",
    "}\n",
    "\n",
    "# Deserialize and validate the data\n",
    "item = item_schema.load(item_data)\n",
    "print(item)\n",
    "\n",
    "# Serialize an item (convert a Python object back to JSON)\n",
    "item_json = item_schema.dump(item)\n",
    "print(item_json)\n"
   ]
  }
 ],
 "metadata": {
  "kernelspec": {
   "display_name": "Python 3",
   "language": "python",
   "name": "python3"
  },
  "language_info": {
   "codemirror_mode": {
    "name": "ipython",
    "version": 3
   },
   "file_extension": ".py",
   "mimetype": "text/x-python",
   "name": "python",
   "nbconvert_exporter": "python",
   "pygments_lexer": "ipython3",
   "version": "3.10.11"
  }
 },
 "nbformat": 4,
 "nbformat_minor": 2
}
